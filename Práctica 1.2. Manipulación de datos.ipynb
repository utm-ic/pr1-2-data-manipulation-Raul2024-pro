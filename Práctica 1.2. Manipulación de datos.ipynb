{
 "cells": [
  {
   "cell_type": "code",
   "execution_count": 1,
   "metadata": {},
   "outputs": [
    {
     "name": "stdout",
     "output_type": "stream",
     "text": [
      "Pandas version: 2.2.2\n"
     ]
    }
   ],
   "source": [
    "import pandas as pd\n",
    "import matplotlib.pyplot as plt\n",
    "import seaborn as sns\n",
    "\n",
    "# Verificar versión de pandas\n",
    "print(\"Pandas version:\", pd.__version__)\n",
    "\n",
    "# Probar que matplotlib y seaborn también están funcionando\n",
    "sns.set(style=\"darkgrid\")\n"
   ]
  },
  {
   "cell_type": "code",
   "execution_count": 2,
   "metadata": {},
   "outputs": [],
   "source": [
    "import pandas as pd\n",
    "\n",
    "# Cargar el archivo CSV\n",
    "df = pd.read_csv('mental_health.csv')\n"
   ]
  },
  {
   "cell_type": "code",
   "execution_count": 3,
   "metadata": {},
   "outputs": [
    {
     "data": {
      "text/html": [
       "<div>\n",
       "<style scoped>\n",
       "    .dataframe tbody tr th:only-of-type {\n",
       "        vertical-align: middle;\n",
       "    }\n",
       "\n",
       "    .dataframe tbody tr th {\n",
       "        vertical-align: top;\n",
       "    }\n",
       "\n",
       "    .dataframe thead th {\n",
       "        text-align: right;\n",
       "    }\n",
       "</style>\n",
       "<table border=\"1\" class=\"dataframe\">\n",
       "  <thead>\n",
       "    <tr style=\"text-align: right;\">\n",
       "      <th></th>\n",
       "      <th>Age</th>\n",
       "      <th>Gender</th>\n",
       "      <th>Education_Level</th>\n",
       "      <th>Employment_Status</th>\n",
       "      <th>Sleep_Hours</th>\n",
       "      <th>Physical_Activity_Hrs</th>\n",
       "      <th>Social_Support_Score</th>\n",
       "      <th>Anxiety_Score</th>\n",
       "      <th>Depression_Score</th>\n",
       "      <th>Stress_Level</th>\n",
       "      <th>...</th>\n",
       "      <th>Chronic_Illnesses</th>\n",
       "      <th>Medication_Use</th>\n",
       "      <th>Therapy</th>\n",
       "      <th>Meditation</th>\n",
       "      <th>Substance_Use</th>\n",
       "      <th>Financial_Stress</th>\n",
       "      <th>Work_Stress</th>\n",
       "      <th>Self_Esteem_Score</th>\n",
       "      <th>Life_Satisfaction_Score</th>\n",
       "      <th>Loneliness_Score</th>\n",
       "    </tr>\n",
       "  </thead>\n",
       "  <tbody>\n",
       "    <tr>\n",
       "      <th>0</th>\n",
       "      <td>56</td>\n",
       "      <td>Male</td>\n",
       "      <td>Bachelor's</td>\n",
       "      <td>Unemployed</td>\n",
       "      <td>6.0</td>\n",
       "      <td>0.4</td>\n",
       "      <td>3</td>\n",
       "      <td>4</td>\n",
       "      <td>2</td>\n",
       "      <td>9</td>\n",
       "      <td>...</td>\n",
       "      <td>0</td>\n",
       "      <td>NaN</td>\n",
       "      <td>0</td>\n",
       "      <td>1</td>\n",
       "      <td>NaN</td>\n",
       "      <td>4</td>\n",
       "      <td>3</td>\n",
       "      <td>7</td>\n",
       "      <td>5</td>\n",
       "      <td>1</td>\n",
       "    </tr>\n",
       "    <tr>\n",
       "      <th>1</th>\n",
       "      <td>69</td>\n",
       "      <td>Female</td>\n",
       "      <td>Bachelor's</td>\n",
       "      <td>Retired</td>\n",
       "      <td>8.8</td>\n",
       "      <td>2.8</td>\n",
       "      <td>6</td>\n",
       "      <td>18</td>\n",
       "      <td>7</td>\n",
       "      <td>6</td>\n",
       "      <td>...</td>\n",
       "      <td>0</td>\n",
       "      <td>NaN</td>\n",
       "      <td>1</td>\n",
       "      <td>0</td>\n",
       "      <td>NaN</td>\n",
       "      <td>1</td>\n",
       "      <td>4</td>\n",
       "      <td>7</td>\n",
       "      <td>4</td>\n",
       "      <td>6</td>\n",
       "    </tr>\n",
       "    <tr>\n",
       "      <th>2</th>\n",
       "      <td>46</td>\n",
       "      <td>Female</td>\n",
       "      <td>Master's</td>\n",
       "      <td>Employed</td>\n",
       "      <td>5.3</td>\n",
       "      <td>1.6</td>\n",
       "      <td>5</td>\n",
       "      <td>5</td>\n",
       "      <td>13</td>\n",
       "      <td>8</td>\n",
       "      <td>...</td>\n",
       "      <td>0</td>\n",
       "      <td>NaN</td>\n",
       "      <td>0</td>\n",
       "      <td>1</td>\n",
       "      <td>NaN</td>\n",
       "      <td>8</td>\n",
       "      <td>7</td>\n",
       "      <td>8</td>\n",
       "      <td>1</td>\n",
       "      <td>1</td>\n",
       "    </tr>\n",
       "    <tr>\n",
       "      <th>3</th>\n",
       "      <td>32</td>\n",
       "      <td>Female</td>\n",
       "      <td>High School</td>\n",
       "      <td>Unemployed</td>\n",
       "      <td>8.8</td>\n",
       "      <td>0.5</td>\n",
       "      <td>4</td>\n",
       "      <td>6</td>\n",
       "      <td>3</td>\n",
       "      <td>4</td>\n",
       "      <td>...</td>\n",
       "      <td>1</td>\n",
       "      <td>NaN</td>\n",
       "      <td>0</td>\n",
       "      <td>0</td>\n",
       "      <td>NaN</td>\n",
       "      <td>7</td>\n",
       "      <td>4</td>\n",
       "      <td>8</td>\n",
       "      <td>4</td>\n",
       "      <td>4</td>\n",
       "    </tr>\n",
       "    <tr>\n",
       "      <th>4</th>\n",
       "      <td>60</td>\n",
       "      <td>Female</td>\n",
       "      <td>Bachelor's</td>\n",
       "      <td>Retired</td>\n",
       "      <td>7.2</td>\n",
       "      <td>0.7</td>\n",
       "      <td>2</td>\n",
       "      <td>7</td>\n",
       "      <td>15</td>\n",
       "      <td>3</td>\n",
       "      <td>...</td>\n",
       "      <td>0</td>\n",
       "      <td>NaN</td>\n",
       "      <td>1</td>\n",
       "      <td>1</td>\n",
       "      <td>Frequent</td>\n",
       "      <td>8</td>\n",
       "      <td>9</td>\n",
       "      <td>5</td>\n",
       "      <td>7</td>\n",
       "      <td>7</td>\n",
       "    </tr>\n",
       "  </tbody>\n",
       "</table>\n",
       "<p>5 rows × 21 columns</p>\n",
       "</div>"
      ],
      "text/plain": [
       "   Age  Gender Education_Level Employment_Status  Sleep_Hours  \\\n",
       "0   56    Male      Bachelor's        Unemployed          6.0   \n",
       "1   69  Female      Bachelor's           Retired          8.8   \n",
       "2   46  Female        Master's          Employed          5.3   \n",
       "3   32  Female     High School        Unemployed          8.8   \n",
       "4   60  Female      Bachelor's           Retired          7.2   \n",
       "\n",
       "   Physical_Activity_Hrs  Social_Support_Score  Anxiety_Score  \\\n",
       "0                    0.4                     3              4   \n",
       "1                    2.8                     6             18   \n",
       "2                    1.6                     5              5   \n",
       "3                    0.5                     4              6   \n",
       "4                    0.7                     2              7   \n",
       "\n",
       "   Depression_Score  Stress_Level  ...  Chronic_Illnesses  Medication_Use  \\\n",
       "0                 2             9  ...                  0             NaN   \n",
       "1                 7             6  ...                  0             NaN   \n",
       "2                13             8  ...                  0             NaN   \n",
       "3                 3             4  ...                  1             NaN   \n",
       "4                15             3  ...                  0             NaN   \n",
       "\n",
       "  Therapy  Meditation  Substance_Use Financial_Stress  Work_Stress  \\\n",
       "0       0           1            NaN                4            3   \n",
       "1       1           0            NaN                1            4   \n",
       "2       0           1            NaN                8            7   \n",
       "3       0           0            NaN                7            4   \n",
       "4       1           1       Frequent                8            9   \n",
       "\n",
       "   Self_Esteem_Score  Life_Satisfaction_Score  Loneliness_Score  \n",
       "0                  7                        5                 1  \n",
       "1                  7                        4                 6  \n",
       "2                  8                        1                 1  \n",
       "3                  8                        4                 4  \n",
       "4                  5                        7                 7  \n",
       "\n",
       "[5 rows x 21 columns]"
      ]
     },
     "execution_count": 3,
     "metadata": {},
     "output_type": "execute_result"
    }
   ],
   "source": [
    "# Ver las primeras filas del DataFrame\n",
    "df.head()"
   ]
  },
  {
   "cell_type": "markdown",
   "metadata": {},
   "source": [
    "Esta tabla se puede interpretar como un conjunto de datos con varias variables relacionadas con la salud y el bienestar, como edad, horas de sueño, actividad física, niveles de ansiedad y depresión, y otros factores. "
   ]
  },
  {
   "cell_type": "code",
   "execution_count": 16,
   "metadata": {},
   "outputs": [
    {
     "data": {
      "text/plain": [
       "array(['Unknown', 'Occasional', 'Regular'], dtype=object)"
      ]
     },
     "execution_count": 16,
     "metadata": {},
     "output_type": "execute_result"
    }
   ],
   "source": [
    "df['Medication_Use'].unique()\n"
   ]
  },
  {
   "cell_type": "code",
   "execution_count": 17,
   "metadata": {},
   "outputs": [
    {
     "data": {
      "text/plain": [
       "array(['Unknown', 'Frequent', 'Occasional'], dtype=object)"
      ]
     },
     "execution_count": 17,
     "metadata": {},
     "output_type": "execute_result"
    }
   ],
   "source": [
    "df['Substance_Use'].unique()"
   ]
  },
  {
   "cell_type": "code",
   "execution_count": 4,
   "metadata": {},
   "outputs": [
    {
     "name": "stdout",
     "output_type": "stream",
     "text": [
      "<class 'pandas.core.frame.DataFrame'>\n",
      "RangeIndex: 1200 entries, 0 to 1199\n",
      "Data columns (total 21 columns):\n",
      " #   Column                         Non-Null Count  Dtype  \n",
      "---  ------                         --------------  -----  \n",
      " 0   Age                            1200 non-null   int64  \n",
      " 1   Gender                         1200 non-null   object \n",
      " 2   Education_Level                1200 non-null   object \n",
      " 3   Employment_Status              1200 non-null   object \n",
      " 4   Sleep_Hours                    1200 non-null   float64\n",
      " 5   Physical_Activity_Hrs          1200 non-null   float64\n",
      " 6   Social_Support_Score           1200 non-null   int64  \n",
      " 7   Anxiety_Score                  1200 non-null   int64  \n",
      " 8   Depression_Score               1200 non-null   int64  \n",
      " 9   Stress_Level                   1200 non-null   int64  \n",
      " 10  Family_History_Mental_Illness  1200 non-null   int64  \n",
      " 11  Chronic_Illnesses              1200 non-null   int64  \n",
      " 12  Medication_Use                 453 non-null    object \n",
      " 13  Therapy                        1200 non-null   int64  \n",
      " 14  Meditation                     1200 non-null   int64  \n",
      " 15  Substance_Use                  366 non-null    object \n",
      " 16  Financial_Stress               1200 non-null   int64  \n",
      " 17  Work_Stress                    1200 non-null   int64  \n",
      " 18  Self_Esteem_Score              1200 non-null   int64  \n",
      " 19  Life_Satisfaction_Score        1200 non-null   int64  \n",
      " 20  Loneliness_Score               1200 non-null   int64  \n",
      "dtypes: float64(2), int64(14), object(5)\n",
      "memory usage: 197.0+ KB\n"
     ]
    }
   ],
   "source": [
    "#información general sobre las columnas, el tipo de datos de cada columna y cuántos valores no nulos hay en cada una.\n",
    "df.info()\n"
   ]
  },
  {
   "cell_type": "code",
   "execution_count": 5,
   "metadata": {},
   "outputs": [
    {
     "data": {
      "text/plain": [
       "(1200, 21)"
      ]
     },
     "execution_count": 5,
     "metadata": {},
     "output_type": "execute_result"
    }
   ],
   "source": [
    "#Muestra del número de filas y columnas del DataFrame.\n",
    "df.shape\n"
   ]
  },
  {
   "cell_type": "code",
   "execution_count": 6,
   "metadata": {},
   "outputs": [
    {
     "data": {
      "text/plain": [
       "Age                                int64\n",
       "Gender                            object\n",
       "Education_Level                   object\n",
       "Employment_Status                 object\n",
       "Sleep_Hours                      float64\n",
       "Physical_Activity_Hrs            float64\n",
       "Social_Support_Score               int64\n",
       "Anxiety_Score                      int64\n",
       "Depression_Score                   int64\n",
       "Stress_Level                       int64\n",
       "Family_History_Mental_Illness      int64\n",
       "Chronic_Illnesses                  int64\n",
       "Medication_Use                    object\n",
       "Therapy                            int64\n",
       "Meditation                         int64\n",
       "Substance_Use                     object\n",
       "Financial_Stress                   int64\n",
       "Work_Stress                        int64\n",
       "Self_Esteem_Score                  int64\n",
       "Life_Satisfaction_Score            int64\n",
       "Loneliness_Score                   int64\n",
       "dtype: object"
      ]
     },
     "execution_count": 6,
     "metadata": {},
     "output_type": "execute_result"
    }
   ],
   "source": [
    "#lista con los tipos de datos de cada columna\n",
    "# Ver los tipos de datos de cada columna\n",
    "df.dtypes\n"
   ]
  },
  {
   "cell_type": "code",
   "execution_count": 7,
   "metadata": {},
   "outputs": [
    {
     "data": {
      "text/plain": [
       "int64      14\n",
       "object      5\n",
       "float64     2\n",
       "Name: count, dtype: int64"
      ]
     },
     "execution_count": 7,
     "metadata": {},
     "output_type": "execute_result"
    }
   ],
   "source": [
    "# Ver cuántas columnas hay de cada tipo de dato\n",
    "df.dtypes.value_counts()\n"
   ]
  },
  {
   "cell_type": "code",
   "execution_count": 8,
   "metadata": {},
   "outputs": [
    {
     "data": {
      "text/html": [
       "<div>\n",
       "<style scoped>\n",
       "    .dataframe tbody tr th:only-of-type {\n",
       "        vertical-align: middle;\n",
       "    }\n",
       "\n",
       "    .dataframe tbody tr th {\n",
       "        vertical-align: top;\n",
       "    }\n",
       "\n",
       "    .dataframe thead th {\n",
       "        text-align: right;\n",
       "    }\n",
       "</style>\n",
       "<table border=\"1\" class=\"dataframe\">\n",
       "  <thead>\n",
       "    <tr style=\"text-align: right;\">\n",
       "      <th></th>\n",
       "      <th>Age</th>\n",
       "      <th>Sleep_Hours</th>\n",
       "      <th>Physical_Activity_Hrs</th>\n",
       "      <th>Social_Support_Score</th>\n",
       "      <th>Anxiety_Score</th>\n",
       "      <th>Depression_Score</th>\n",
       "      <th>Stress_Level</th>\n",
       "      <th>Family_History_Mental_Illness</th>\n",
       "      <th>Chronic_Illnesses</th>\n",
       "      <th>Therapy</th>\n",
       "      <th>Meditation</th>\n",
       "      <th>Financial_Stress</th>\n",
       "      <th>Work_Stress</th>\n",
       "      <th>Self_Esteem_Score</th>\n",
       "      <th>Life_Satisfaction_Score</th>\n",
       "      <th>Loneliness_Score</th>\n",
       "    </tr>\n",
       "  </thead>\n",
       "  <tbody>\n",
       "    <tr>\n",
       "      <th>count</th>\n",
       "      <td>1200.000000</td>\n",
       "      <td>1200.00000</td>\n",
       "      <td>1200.000000</td>\n",
       "      <td>1200.000000</td>\n",
       "      <td>1200.000000</td>\n",
       "      <td>1200.000000</td>\n",
       "      <td>1200.000000</td>\n",
       "      <td>1200.000000</td>\n",
       "      <td>1200.00000</td>\n",
       "      <td>1200.000000</td>\n",
       "      <td>1200.000000</td>\n",
       "      <td>1200.000000</td>\n",
       "      <td>1200.000000</td>\n",
       "      <td>1200.000000</td>\n",
       "      <td>1200.00000</td>\n",
       "      <td>1200.000000</td>\n",
       "    </tr>\n",
       "    <tr>\n",
       "      <th>mean</th>\n",
       "      <td>46.317500</td>\n",
       "      <td>6.46900</td>\n",
       "      <td>2.005750</td>\n",
       "      <td>5.055000</td>\n",
       "      <td>10.470000</td>\n",
       "      <td>10.674167</td>\n",
       "      <td>5.000833</td>\n",
       "      <td>0.318333</td>\n",
       "      <td>0.26750</td>\n",
       "      <td>0.210000</td>\n",
       "      <td>0.399167</td>\n",
       "      <td>4.992500</td>\n",
       "      <td>4.889167</td>\n",
       "      <td>5.062500</td>\n",
       "      <td>5.12000</td>\n",
       "      <td>4.959167</td>\n",
       "    </tr>\n",
       "    <tr>\n",
       "      <th>std</th>\n",
       "      <td>16.451157</td>\n",
       "      <td>1.52955</td>\n",
       "      <td>2.037818</td>\n",
       "      <td>2.652893</td>\n",
       "      <td>5.911138</td>\n",
       "      <td>5.632889</td>\n",
       "      <td>2.538281</td>\n",
       "      <td>0.466024</td>\n",
       "      <td>0.44284</td>\n",
       "      <td>0.407478</td>\n",
       "      <td>0.489931</td>\n",
       "      <td>2.590953</td>\n",
       "      <td>2.547016</td>\n",
       "      <td>2.531587</td>\n",
       "      <td>2.56991</td>\n",
       "      <td>2.566383</td>\n",
       "    </tr>\n",
       "    <tr>\n",
       "      <th>min</th>\n",
       "      <td>18.000000</td>\n",
       "      <td>2.00000</td>\n",
       "      <td>0.000000</td>\n",
       "      <td>1.000000</td>\n",
       "      <td>1.000000</td>\n",
       "      <td>1.000000</td>\n",
       "      <td>1.000000</td>\n",
       "      <td>0.000000</td>\n",
       "      <td>0.00000</td>\n",
       "      <td>0.000000</td>\n",
       "      <td>0.000000</td>\n",
       "      <td>1.000000</td>\n",
       "      <td>1.000000</td>\n",
       "      <td>1.000000</td>\n",
       "      <td>1.00000</td>\n",
       "      <td>1.000000</td>\n",
       "    </tr>\n",
       "    <tr>\n",
       "      <th>25%</th>\n",
       "      <td>33.000000</td>\n",
       "      <td>5.40000</td>\n",
       "      <td>0.600000</td>\n",
       "      <td>3.000000</td>\n",
       "      <td>5.000000</td>\n",
       "      <td>6.000000</td>\n",
       "      <td>3.000000</td>\n",
       "      <td>0.000000</td>\n",
       "      <td>0.00000</td>\n",
       "      <td>0.000000</td>\n",
       "      <td>0.000000</td>\n",
       "      <td>3.000000</td>\n",
       "      <td>3.000000</td>\n",
       "      <td>3.000000</td>\n",
       "      <td>3.00000</td>\n",
       "      <td>3.000000</td>\n",
       "    </tr>\n",
       "    <tr>\n",
       "      <th>50%</th>\n",
       "      <td>46.000000</td>\n",
       "      <td>6.40000</td>\n",
       "      <td>1.400000</td>\n",
       "      <td>5.000000</td>\n",
       "      <td>10.500000</td>\n",
       "      <td>11.000000</td>\n",
       "      <td>5.000000</td>\n",
       "      <td>0.000000</td>\n",
       "      <td>0.00000</td>\n",
       "      <td>0.000000</td>\n",
       "      <td>0.000000</td>\n",
       "      <td>5.000000</td>\n",
       "      <td>5.000000</td>\n",
       "      <td>5.000000</td>\n",
       "      <td>5.00000</td>\n",
       "      <td>5.000000</td>\n",
       "    </tr>\n",
       "    <tr>\n",
       "      <th>75%</th>\n",
       "      <td>61.000000</td>\n",
       "      <td>7.50000</td>\n",
       "      <td>2.700000</td>\n",
       "      <td>7.000000</td>\n",
       "      <td>16.000000</td>\n",
       "      <td>15.000000</td>\n",
       "      <td>7.000000</td>\n",
       "      <td>1.000000</td>\n",
       "      <td>1.00000</td>\n",
       "      <td>0.000000</td>\n",
       "      <td>1.000000</td>\n",
       "      <td>7.000000</td>\n",
       "      <td>7.000000</td>\n",
       "      <td>7.000000</td>\n",
       "      <td>7.00000</td>\n",
       "      <td>7.000000</td>\n",
       "    </tr>\n",
       "    <tr>\n",
       "      <th>max</th>\n",
       "      <td>74.000000</td>\n",
       "      <td>12.40000</td>\n",
       "      <td>15.100000</td>\n",
       "      <td>9.000000</td>\n",
       "      <td>20.000000</td>\n",
       "      <td>20.000000</td>\n",
       "      <td>9.000000</td>\n",
       "      <td>1.000000</td>\n",
       "      <td>1.00000</td>\n",
       "      <td>1.000000</td>\n",
       "      <td>1.000000</td>\n",
       "      <td>9.000000</td>\n",
       "      <td>9.000000</td>\n",
       "      <td>9.000000</td>\n",
       "      <td>9.00000</td>\n",
       "      <td>9.000000</td>\n",
       "    </tr>\n",
       "  </tbody>\n",
       "</table>\n",
       "</div>"
      ],
      "text/plain": [
       "               Age  Sleep_Hours  Physical_Activity_Hrs  Social_Support_Score  \\\n",
       "count  1200.000000   1200.00000            1200.000000           1200.000000   \n",
       "mean     46.317500      6.46900               2.005750              5.055000   \n",
       "std      16.451157      1.52955               2.037818              2.652893   \n",
       "min      18.000000      2.00000               0.000000              1.000000   \n",
       "25%      33.000000      5.40000               0.600000              3.000000   \n",
       "50%      46.000000      6.40000               1.400000              5.000000   \n",
       "75%      61.000000      7.50000               2.700000              7.000000   \n",
       "max      74.000000     12.40000              15.100000              9.000000   \n",
       "\n",
       "       Anxiety_Score  Depression_Score  Stress_Level  \\\n",
       "count    1200.000000       1200.000000   1200.000000   \n",
       "mean       10.470000         10.674167      5.000833   \n",
       "std         5.911138          5.632889      2.538281   \n",
       "min         1.000000          1.000000      1.000000   \n",
       "25%         5.000000          6.000000      3.000000   \n",
       "50%        10.500000         11.000000      5.000000   \n",
       "75%        16.000000         15.000000      7.000000   \n",
       "max        20.000000         20.000000      9.000000   \n",
       "\n",
       "       Family_History_Mental_Illness  Chronic_Illnesses      Therapy  \\\n",
       "count                    1200.000000         1200.00000  1200.000000   \n",
       "mean                        0.318333            0.26750     0.210000   \n",
       "std                         0.466024            0.44284     0.407478   \n",
       "min                         0.000000            0.00000     0.000000   \n",
       "25%                         0.000000            0.00000     0.000000   \n",
       "50%                         0.000000            0.00000     0.000000   \n",
       "75%                         1.000000            1.00000     0.000000   \n",
       "max                         1.000000            1.00000     1.000000   \n",
       "\n",
       "        Meditation  Financial_Stress  Work_Stress  Self_Esteem_Score  \\\n",
       "count  1200.000000       1200.000000  1200.000000        1200.000000   \n",
       "mean      0.399167          4.992500     4.889167           5.062500   \n",
       "std       0.489931          2.590953     2.547016           2.531587   \n",
       "min       0.000000          1.000000     1.000000           1.000000   \n",
       "25%       0.000000          3.000000     3.000000           3.000000   \n",
       "50%       0.000000          5.000000     5.000000           5.000000   \n",
       "75%       1.000000          7.000000     7.000000           7.000000   \n",
       "max       1.000000          9.000000     9.000000           9.000000   \n",
       "\n",
       "       Life_Satisfaction_Score  Loneliness_Score  \n",
       "count               1200.00000       1200.000000  \n",
       "mean                   5.12000          4.959167  \n",
       "std                    2.56991          2.566383  \n",
       "min                    1.00000          1.000000  \n",
       "25%                    3.00000          3.000000  \n",
       "50%                    5.00000          5.000000  \n",
       "75%                    7.00000          7.000000  \n",
       "max                    9.00000          9.000000  "
      ]
     },
     "execution_count": 8,
     "metadata": {},
     "output_type": "execute_result"
    }
   ],
   "source": [
    "df.describe()\n"
   ]
  },
  {
   "cell_type": "markdown",
   "metadata": {},
   "source": [
    "El Promedio es de 46.32 años. La edad va desde 18 años hasta 74 años. La Desviación estándar es de 16.45, lo que indica que hay una gran variabilidad en las edades de los participantes. El Historia Familiar de Enfermedades Mentales tiene de Promedio 0.32, lo que indica que alrededor del 32% de los participantes tienen antecedentes familiares de enfermedades mentales. Se percibe que hay una variabilidad considerable en la percepción del apoyo social. Los niveles de ansiedad y depresión varían considerablemente entre las personas. Algunos participantes experimentan bajos niveles de estrés, mientras que otros experimentan niveles más altos. El nivel de sueño promedio está alrededor de 6.5 horas, lo que es un poco bajo en comparación con las recomendaciones de sueño."
   ]
  },
  {
   "cell_type": "code",
   "execution_count": 26,
   "metadata": {},
   "outputs": [
    {
     "name": "stdout",
     "output_type": "stream",
     "text": [
      "        Anxiety_Score  Depression_Score  Stress_Level\n",
      "mean        10.470000         10.674167      5.000833\n",
      "median      10.500000         11.000000      5.000000\n",
      "std          5.911138          5.632889      2.538281\n"
     ]
    }
   ],
   "source": [
    "# Calcular las estadísticas básicas (media, mediana y desviación estándar)\n",
    "estadisticas = df[['Anxiety_Score', 'Depression_Score', 'Stress_Level']].agg(['mean', 'median', 'std'])\n",
    "\n",
    "# Mostrar el resultado\n",
    "print(estadisticas)\n"
   ]
  },
  {
   "cell_type": "code",
   "execution_count": 27,
   "metadata": {},
   "outputs": [
    {
     "name": "stdout",
     "output_type": "stream",
     "text": [
      "La columna con mayor variabilidad es: Anxiety_Score con una desviación estándar de 5.911137901685593\n"
     ]
    }
   ],
   "source": [
    "# Ver cuál columna tiene la mayor desviación estándar\n",
    "variabilidad = df[['Anxiety_Score', 'Depression_Score', 'Stress_Level']].std()\n",
    "\n",
    "# Mostrar el resultado\n",
    "print(f\"La columna con mayor variabilidad es: {variabilidad.idxmax()} con una desviación estándar de {variabilidad.max()}\")\n"
   ]
  },
  {
   "cell_type": "code",
   "execution_count": 28,
   "metadata": {},
   "outputs": [
    {
     "name": "stdout",
     "output_type": "stream",
     "text": [
      "Diferencia entre la media y la mediana: \n",
      "Anxiety_Score      -0.030000\n",
      "Depression_Score   -0.325833\n",
      "Stress_Level        0.000833\n",
      "dtype: float64\n"
     ]
    }
   ],
   "source": [
    "# Mostrar la diferencia entre media y mediana para cada columna\n",
    "diferencia_media_mediana = estadisticas.loc['mean'] - estadisticas.loc['median']\n",
    "\n",
    "# Mostrar el resultado\n",
    "print(f\"Diferencia entre la media y la mediana: \\n{diferencia_media_mediana}\")\n"
   ]
  },
  {
   "cell_type": "code",
   "execution_count": 9,
   "metadata": {},
   "outputs": [
    {
     "data": {
      "text/plain": [
       "Index(['Age', 'Gender', 'Education_Level', 'Employment_Status', 'Sleep_Hours',\n",
       "       'Physical_Activity_Hrs', 'Social_Support_Score', 'Anxiety_Score',\n",
       "       'Depression_Score', 'Stress_Level', 'Family_History_Mental_Illness',\n",
       "       'Chronic_Illnesses', 'Medication_Use', 'Therapy', 'Meditation',\n",
       "       'Substance_Use', 'Financial_Stress', 'Work_Stress', 'Self_Esteem_Score',\n",
       "       'Life_Satisfaction_Score', 'Loneliness_Score'],\n",
       "      dtype='object')"
      ]
     },
     "execution_count": 9,
     "metadata": {},
     "output_type": "execute_result"
    }
   ],
   "source": [
    "df.columns\n"
   ]
  },
  {
   "cell_type": "code",
   "execution_count": 11,
   "metadata": {},
   "outputs": [
    {
     "data": {
      "text/plain": [
       "Index(['Gender', 'Education_Level', 'Employment_Status', 'Medication_Use',\n",
       "       'Substance_Use'],\n",
       "      dtype='object')"
      ]
     },
     "execution_count": 11,
     "metadata": {},
     "output_type": "execute_result"
    }
   ],
   "source": [
    "# Ver las columnas de tipo 'object'\n",
    "df.select_dtypes(include=['object']).columns\n"
   ]
  },
  {
   "cell_type": "code",
   "execution_count": 12,
   "metadata": {},
   "outputs": [
    {
     "name": "stdout",
     "output_type": "stream",
     "text": [
      "Valores únicos en la columna Gender:\n",
      "['Male' 'Female' 'Non-Binary' 'Other']\n",
      "\n",
      "\n",
      "Valores únicos en la columna Education_Level:\n",
      "[\"Bachelor's\" \"Master's\" 'High School' 'Other' 'PhD']\n",
      "\n",
      "\n",
      "Valores únicos en la columna Employment_Status:\n",
      "['Unemployed' 'Retired' 'Employed' 'Student']\n",
      "\n",
      "\n",
      "Valores únicos en la columna Medication_Use:\n",
      "[nan 'Occasional' 'Regular']\n",
      "\n",
      "\n",
      "Valores únicos en la columna Substance_Use:\n",
      "[nan 'Frequent' 'Occasional']\n",
      "\n",
      "\n"
     ]
    }
   ],
   "source": [
    "# Ver los valores únicos en cada columna de tipo 'object'\n",
    "for col in df.select_dtypes(include=['object']).columns:\n",
    "    print(f\"Valores únicos en la columna {col}:\")\n",
    "    print(df[col].unique())\n",
    "    print(\"\\n\")\n"
   ]
  },
  {
   "cell_type": "markdown",
   "metadata": {},
   "source": [
    "Las columnas Gender, Education_Level, Employment_Status, Medication_Use, y Substance_Use son todas columnas categóricas."
   ]
  },
  {
   "cell_type": "code",
   "execution_count": 10,
   "metadata": {},
   "outputs": [
    {
     "data": {
      "text/plain": [
       "Age                                0\n",
       "Gender                             0\n",
       "Education_Level                    0\n",
       "Employment_Status                  0\n",
       "Sleep_Hours                        0\n",
       "Physical_Activity_Hrs              0\n",
       "Social_Support_Score               0\n",
       "Anxiety_Score                      0\n",
       "Depression_Score                   0\n",
       "Stress_Level                       0\n",
       "Family_History_Mental_Illness      0\n",
       "Chronic_Illnesses                  0\n",
       "Medication_Use                   747\n",
       "Therapy                            0\n",
       "Meditation                         0\n",
       "Substance_Use                    834\n",
       "Financial_Stress                   0\n",
       "Work_Stress                        0\n",
       "Self_Esteem_Score                  0\n",
       "Life_Satisfaction_Score            0\n",
       "Loneliness_Score                   0\n",
       "dtype: int64"
      ]
     },
     "execution_count": 10,
     "metadata": {},
     "output_type": "execute_result"
    }
   ],
   "source": [
    "df.isnull().sum()\n"
   ]
  },
  {
   "cell_type": "markdown",
   "metadata": {},
   "source": [
    "Para las variables como edad, género, nivel educativo, estado laboral, estrés financiero, etc, no hay datos faltantes, lo que nos indica que la mayoría de los registros están completos en estos aspectos. Por otro lado, los datos faltantes significativos son las variables uso de medicación y uso de sustancias que tienen un alto número de valores nulos 747 y 834, respectivamente, lo que sugiere que una parte significativa de la muestra no proporciona esta información. Esto podría ser un indicativo de que los participantes no usan medicación o sustancias, o simplemente de que no se registró dicha información."
   ]
  },
  {
   "cell_type": "code",
   "execution_count": 13,
   "metadata": {},
   "outputs": [
    {
     "data": {
      "text/plain": [
       "np.int64(0)"
      ]
     },
     "execution_count": 13,
     "metadata": {},
     "output_type": "execute_result"
    }
   ],
   "source": [
    "# Verificar si hay filas duplicadas\n",
    "df.duplicated().sum()\n"
   ]
  },
  {
   "cell_type": "code",
   "execution_count": 14,
   "metadata": {},
   "outputs": [],
   "source": [
    "# Imputar valores nulos en 'Medication_Use' y 'Substance_Use' con 'Unknown'\n",
    "df['Medication_Use'] = df['Medication_Use'].fillna('Unknown')\n",
    "df['Substance_Use'] = df['Substance_Use'].fillna('Unknown')\n"
   ]
  },
  {
   "cell_type": "code",
   "execution_count": 15,
   "metadata": {},
   "outputs": [
    {
     "data": {
      "text/plain": [
       "Medication_Use    0\n",
       "Substance_Use     0\n",
       "dtype: int64"
      ]
     },
     "execution_count": 15,
     "metadata": {},
     "output_type": "execute_result"
    }
   ],
   "source": [
    "# Verificar que no haya más valores nulos en las columnas imputadas\n",
    "df[['Medication_Use', 'Substance_Use']].isnull().sum()\n"
   ]
  },
  {
   "cell_type": "code",
   "execution_count": 18,
   "metadata": {},
   "outputs": [],
   "source": [
    "# Convertir a tipo numérico las columnas que deberían ser numéricas\n",
    "df['Age'] = pd.to_numeric(df['Age'], errors='coerce')\n",
    "df['Anxiety_Score'] = pd.to_numeric(df['Anxiety_Score'], errors='coerce')\n",
    "df['Depression_Score'] = pd.to_numeric(df['Depression_Score'], errors='coerce')\n",
    "df['Stress_Level'] = pd.to_numeric(df['Stress_Level'], errors='coerce')\n",
    "df['Self_Esteem_Score'] = pd.to_numeric(df['Self_Esteem_Score'], errors='coerce')\n",
    "df['Life_Satisfaction_Score'] = pd.to_numeric(df['Life_Satisfaction_Score'], errors='coerce')\n",
    "df['Loneliness_Score'] = pd.to_numeric(df['Loneliness_Score'], errors='coerce')\n",
    "df['Social_Support_Score'] = pd.to_numeric(df['Social_Support_Score'], errors='coerce')\n",
    "df['Financial_Stress'] = pd.to_numeric(df['Financial_Stress'], errors='coerce')\n",
    "df['Work_Stress'] = pd.to_numeric(df['Work_Stress'], errors='coerce')\n"
   ]
  },
  {
   "cell_type": "code",
   "execution_count": 19,
   "metadata": {},
   "outputs": [],
   "source": [
    "# Convertir las columnas categóricas al tipo 'category'\n",
    "df['Gender'] = df['Gender'].astype('category')\n",
    "df['Education_Level'] = df['Education_Level'].astype('category')\n",
    "df['Employment_Status'] = df['Employment_Status'].astype('category')\n",
    "df['Medication_Use'] = df['Medication_Use'].astype('category')\n",
    "df['Substance_Use'] = df['Substance_Use'].astype('category')\n",
    "df['Therapy'] = df['Therapy'].astype('category')\n",
    "df['Meditation'] = df['Meditation'].astype('category')\n",
    "df['Family_History_Mental_Illness'] = df['Family_History_Mental_Illness'].astype('category')\n",
    "df['Chronic_Illnesses'] = df['Chronic_Illnesses'].astype('category')\n"
   ]
  },
  {
   "cell_type": "code",
   "execution_count": 21,
   "metadata": {},
   "outputs": [
    {
     "name": "stdout",
     "output_type": "stream",
     "text": [
      "Age                              0.0\n",
      "Gender                           0.0\n",
      "Education_Level                  0.0\n",
      "Employment_Status                0.0\n",
      "Sleep_Hours                      0.0\n",
      "Physical_Activity_Hrs            0.0\n",
      "Social_Support_Score             0.0\n",
      "Anxiety_Score                    0.0\n",
      "Depression_Score                 0.0\n",
      "Stress_Level                     0.0\n",
      "Family_History_Mental_Illness    0.0\n",
      "Chronic_Illnesses                0.0\n",
      "Medication_Use                   0.0\n",
      "Therapy                          0.0\n",
      "Meditation                       0.0\n",
      "Substance_Use                    0.0\n",
      "Financial_Stress                 0.0\n",
      "Work_Stress                      0.0\n",
      "Self_Esteem_Score                0.0\n",
      "Life_Satisfaction_Score          0.0\n",
      "Loneliness_Score                 0.0\n",
      "dtype: float64\n"
     ]
    }
   ],
   "source": [
    "# Calcular el porcentaje de valores nulos por columna\n",
    "porcentaje_nulos_columna = df.isnull().mean() * 100\n",
    "\n",
    "# Mostrar el resultado\n",
    "print(porcentaje_nulos_columna)"
   ]
  },
  {
   "cell_type": "code",
   "execution_count": 25,
   "metadata": {},
   "outputs": [
    {
     "name": "stdout",
     "output_type": "stream",
     "text": [
      "Porcentaje total de valores nulos: 0.00%\n"
     ]
    }
   ],
   "source": [
    "# Calcular el porcentaje total de valores nulos en el dataset\n",
    "porcentaje_nulos_total = df.isnull().sum().sum() / df.size * 100\n",
    "\n",
    "# Mostrar el resultado\n",
    "print(f\"Porcentaje total de valores nulos: {porcentaje_nulos_total:.2f}%\")\n"
   ]
  },
  {
   "cell_type": "code",
   "execution_count": 29,
   "metadata": {},
   "outputs": [
    {
     "name": "stdout",
     "output_type": "stream",
     "text": [
      "Número de personas con alta ansiedad: 0\n"
     ]
    }
   ],
   "source": [
    "# Filtrar las personas con un puntaje de ansiedad mayor a 80\n",
    "ansiedad_alta = df[df['Anxiety_Score'] > 80]\n",
    "\n",
    "# Mostrar el número de personas con alta ansiedad\n",
    "print(f\"Número de personas con alta ansiedad: {ansiedad_alta.shape[0]}\")\n"
   ]
  },
  {
   "cell_type": "code",
   "execution_count": 30,
   "metadata": {},
   "outputs": [
    {
     "name": "stdout",
     "output_type": "stream",
     "text": [
      "   Sleep_Hours     Sleep_Category\n",
      "0          6.0  Entre 5 y 7 horas\n",
      "1          8.8     Más de 7 horas\n",
      "2          5.3  Entre 5 y 7 horas\n",
      "3          8.8     Más de 7 horas\n",
      "4          7.2     Más de 7 horas\n"
     ]
    }
   ],
   "source": [
    "# Crear una función para clasificar las horas de sueño\n",
    "def clasificar_sueno(sleep_hours):\n",
    "    if sleep_hours < 5:\n",
    "        return 'Menos de 5 horas'\n",
    "    elif 5 <= sleep_hours <= 7:\n",
    "        return 'Entre 5 y 7 horas'\n",
    "    else:\n",
    "        return 'Más de 7 horas'\n",
    "\n",
    "# Aplicar la función para crear una nueva columna 'Sleep_Category'\n",
    "df['Sleep_Category'] = df['Sleep_Hours'].apply(clasificar_sueno)\n",
    "\n",
    "# Mostrar las primeras filas para verificar\n",
    "print(df[['Sleep_Hours', 'Sleep_Category']].head())\n"
   ]
  },
  {
   "cell_type": "code",
   "execution_count": 31,
   "metadata": {},
   "outputs": [
    {
     "name": "stdout",
     "output_type": "stream",
     "text": [
      "                   count      mean       std  min  25%  50%  75%  max\n",
      "Sleep_Category                                                       \n",
      "Entre 5 y 7 horas  590.0  4.954237  2.544599  1.0  3.0  5.0  7.0  9.0\n",
      "Menos de 5 horas   190.0  5.136842  2.543216  1.0  3.0  5.0  7.0  9.0\n",
      "Más de 7 horas     420.0  5.004762  2.530949  1.0  3.0  5.0  7.0  9.0\n"
     ]
    }
   ],
   "source": [
    "# Agrupar por 'Sleep_Category' y calcular estadísticas descriptivas del nivel de estrés\n",
    "estadisticas_estrés = df.groupby('Sleep_Category')['Stress_Level'].describe()\n",
    "\n",
    "# Mostrar el resultado\n",
    "print(estadisticas_estrés)\n"
   ]
  },
  {
   "cell_type": "code",
   "execution_count": 32,
   "metadata": {},
   "outputs": [
    {
     "name": "stdout",
     "output_type": "stream",
     "text": [
      "     Life_Satisfaction_Score  Loneliness_Score\n",
      "14                         9                 1\n",
      "33                         9                 1\n",
      "83                         9                 1\n",
      "92                         9                 1\n",
      "103                        9                 1\n"
     ]
    }
   ],
   "source": [
    "# Ordenar el dataset por Satisfacción de vida (de mayor a menor) y Soledad (de menor a mayor)\n",
    "ordenado = df.sort_values(by=['Life_Satisfaction_Score', 'Loneliness_Score'], ascending=[False, True])\n",
    "\n",
    "# Mostrar las primeras filas de las personas con mayor satisfacción de vida y menor puntaje de soledad\n",
    "print(ordenado[['Life_Satisfaction_Score', 'Loneliness_Score']].head())\n"
   ]
  },
  {
   "cell_type": "code",
   "execution_count": 33,
   "metadata": {},
   "outputs": [
    {
     "name": "stdout",
     "output_type": "stream",
     "text": [
      "     Life_Satisfaction_Score  Loneliness_Score  Physical_Activity_Hrs  \\\n",
      "14                         9                 1                    1.5   \n",
      "33                         9                 1                    1.7   \n",
      "83                         9                 1                    1.8   \n",
      "92                         9                 1                    0.4   \n",
      "103                        9                 1                    5.1   \n",
      "\n",
      "     Social_Support_Score  \n",
      "14                      5  \n",
      "33                      3  \n",
      "83                      4  \n",
      "92                      8  \n",
      "103                     9  \n"
     ]
    }
   ],
   "source": [
    "# Ver algunas columnas adicionales para detectar patrones\n",
    "print(ordenado[['Life_Satisfaction_Score', 'Loneliness_Score', 'Physical_Activity_Hrs', 'Social_Support_Score']].head())\n"
   ]
  },
  {
   "cell_type": "code",
   "execution_count": 34,
   "metadata": {},
   "outputs": [
    {
     "name": "stdout",
     "output_type": "stream",
     "text": [
      "Empty DataFrame\n",
      "Columns: [Age, Gender, Education_Level, Employment_Status, Sleep_Hours, Physical_Activity_Hrs, Social_Support_Score, Anxiety_Score, Depression_Score, Stress_Level, Family_History_Mental_Illness, Chronic_Illnesses, Medication_Use, Therapy, Meditation, Substance_Use, Financial_Stress, Work_Stress, Self_Esteem_Score, Life_Satisfaction_Score, Loneliness_Score, Sleep_Category]\n",
      "Index: []\n",
      "\n",
      "[0 rows x 22 columns]\n"
     ]
    }
   ],
   "source": [
    "# Calcular la mediana del nivel de estrés\n",
    "mediana_estres = df['Stress_Level'].median()\n",
    "\n",
    "# Filtrar personas que reciben terapia y tienen un nivel de estrés por debajo de la mediana\n",
    "resultado_filtrado = df[(df['Therapy'] == 'Yes') & (df['Stress_Level'] < mediana_estres)]\n",
    "\n",
    "# Mostrar las primeras filas del resultado filtrado\n",
    "print(resultado_filtrado.head())\n"
   ]
  },
  {
   "cell_type": "code",
   "execution_count": 36,
   "metadata": {},
   "outputs": [
    {
     "name": "stdout",
     "output_type": "stream",
     "text": [
      "Cantidad de personas que cumplen con ambas condiciones: 0\n"
     ]
    }
   ],
   "source": [
    "# Contar el número de personas que cumplen con ambas condiciones\n",
    "print(f\"Cantidad de personas que cumplen con ambas condiciones: {len(resultado_filtrado)}\")\n"
   ]
  },
  {
   "cell_type": "code",
   "execution_count": 37,
   "metadata": {},
   "outputs": [
    {
     "name": "stdout",
     "output_type": "stream",
     "text": [
      "Therapy\n",
      "0    948\n",
      "1    252\n",
      "Name: count, dtype: int64\n",
      "count    1200.000000\n",
      "mean        5.000833\n",
      "std         2.538281\n",
      "min         1.000000\n",
      "25%         3.000000\n",
      "50%         5.000000\n",
      "75%         7.000000\n",
      "max         9.000000\n",
      "Name: Stress_Level, dtype: float64\n"
     ]
    }
   ],
   "source": [
    "# Ver distribución de 'Therapy'\n",
    "print(df['Therapy'].value_counts())\n",
    "\n",
    "# Ver estadísticas básicas de 'Stress_Level'\n",
    "print(df['Stress_Level'].describe())\n"
   ]
  },
  {
   "cell_type": "code",
   "execution_count": 38,
   "metadata": {},
   "outputs": [
    {
     "name": "stdout",
     "output_type": "stream",
     "text": [
      "Empty DataFrame\n",
      "Columns: [Age, Gender, Education_Level, Employment_Status, Sleep_Hours, Physical_Activity_Hrs, Social_Support_Score, Anxiety_Score, Depression_Score, Stress_Level, Family_History_Mental_Illness, Chronic_Illnesses, Medication_Use, Therapy, Meditation, Substance_Use, Financial_Stress, Work_Stress, Self_Esteem_Score, Life_Satisfaction_Score, Loneliness_Score, Sleep_Category]\n",
      "Index: []\n",
      "\n",
      "[0 rows x 22 columns]\n"
     ]
    }
   ],
   "source": [
    "# Filtrar personas con estrés alto y que reciben terapia\n",
    "resultado_filtrado_alto_estres = df[(df['Therapy'] == 'Yes') & (df['Stress_Level'] > mediana_estres)]\n",
    "print(resultado_filtrado_alto_estres.head())\n"
   ]
  },
  {
   "cell_type": "code",
   "execution_count": 35,
   "metadata": {},
   "outputs": [
    {
     "name": "stdout",
     "output_type": "stream",
     "text": [
      "Archivo guardado exitosamente como 'personas_terapia_bajo_estres.csv'\n"
     ]
    }
   ],
   "source": [
    "# Guardar el dataframe filtrado en un nuevo archivo CSV\n",
    "resultado_filtrado.to_csv('personas_terapia_bajo_estres.csv', index=False)\n",
    "\n",
    "# Confirmar que el archivo se ha guardado\n",
    "print(\"Archivo guardado exitosamente como 'personas_terapia_bajo_estres.csv'\")\n"
   ]
  },
  {
   "cell_type": "code",
   "execution_count": 39,
   "metadata": {},
   "outputs": [
    {
     "name": "stdout",
     "output_type": "stream",
     "text": [
      "Gender\n",
      "Female        5.231986\n",
      "Male          5.023077\n",
      "Non-Binary    4.600000\n",
      "Other         3.428571\n",
      "Name: Self_Esteem_Score, dtype: float64\n"
     ]
    },
    {
     "name": "stderr",
     "output_type": "stream",
     "text": [
      "C:\\Users\\Raul\\AppData\\Local\\Temp\\ipykernel_5796\\1994755118.py:2: FutureWarning: The default of observed=False is deprecated and will be changed to True in a future version of pandas. Pass observed=False to retain current behavior or observed=True to adopt the future default and silence this warning.\n",
      "  media_autoestima_por_genero = df.groupby('Gender')['Self_Esteem_Score'].mean()\n"
     ]
    }
   ],
   "source": [
    "# Calcular la media de Self_Esteem_Score por género\n",
    "media_autoestima_por_genero = df.groupby('Gender')['Self_Esteem_Score'].mean()\n",
    "\n",
    "# Mostrar el resultado\n",
    "print(media_autoestima_por_genero)\n"
   ]
  },
  {
   "cell_type": "code",
   "execution_count": 40,
   "metadata": {},
   "outputs": [
    {
     "data": {
      "image/png": "[encoded data removed]",
      "text/plain": [
       "<Figure size 800x600 with 1 Axes>"
      ]
     },
     "metadata": {},
     "output_type": "display_data"
    }
   ],
   "source": [
    "import seaborn as sns\n",
    "import matplotlib.pyplot as plt\n",
    "\n",
    "# Crear el gráfico de barras\n",
    "plt.figure(figsize=(8, 6))\n",
    "sns.barplot(x=media_autoestima_por_genero.index, y=media_autoestima_por_genero.values)\n",
    "\n",
    "# Agregar títulos y etiquetas\n",
    "plt.title('Media de Self_Esteem_Score por Género')\n",
    "plt.xlabel('Género')\n",
    "plt.ylabel('Media de Self_Esteem_Score')\n",
    "\n",
    "# Mostrar el gráfico\n",
    "plt.show()\n"
   ]
  }
 ],
 "metadata": {
  "kernelspec": {
   "display_name": "Python 3",
   "language": "python",
   "name": "python3"
  },
  "language_info": {
   "codemirror_mode": {
    "name": "ipython",
    "version": 3
   },
   "file_extension": ".py",
   "mimetype": "text/x-python",
   "name": "python",
   "nbconvert_exporter": "python",
   "pygments_lexer": "ipython3",
   "version": "3.12.4"
  }
 },
 "nbformat": 4,
 "nbformat_minor": 2
}
